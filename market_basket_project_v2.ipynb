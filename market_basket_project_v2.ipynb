{
 "cells": [
  {
   "cell_type": "markdown",
   "id": "aca0df25-d119-4ea5-b4da-63136fe14a30",
   "metadata": {},
   "source": [
    "### Load Data and Details"
   ]
  },
  {
   "cell_type": "code",
   "execution_count": 1,
   "id": "5911d1d8-716d-44b5-9a16-8b4b7e7d807e",
   "metadata": {},
   "outputs": [],
   "source": [
    "import pandas as pd\n",
    "import numpy as np\n",
    "import matplotlib.pyplot as plt\n",
    "import seaborn as sns\n",
    "from datetime import datetime"
   ]
  },
  {
   "cell_type": "code",
   "execution_count": 2,
   "id": "1b6d79e8-09a8-4604-8906-dcb8d30e7b48",
   "metadata": {},
   "outputs": [
    {
     "data": {
      "text/html": [
       "<div>\n",
       "<style scoped>\n",
       "    .dataframe tbody tr th:only-of-type {\n",
       "        vertical-align: middle;\n",
       "    }\n",
       "\n",
       "    .dataframe tbody tr th {\n",
       "        vertical-align: top;\n",
       "    }\n",
       "\n",
       "    .dataframe thead th {\n",
       "        text-align: right;\n",
       "    }\n",
       "</style>\n",
       "<table border=\"1\" class=\"dataframe\">\n",
       "  <thead>\n",
       "    <tr style=\"text-align: right;\">\n",
       "      <th></th>\n",
       "      <th>InvoiceNo</th>\n",
       "      <th>StockCode</th>\n",
       "      <th>Description</th>\n",
       "      <th>Quantity</th>\n",
       "      <th>InvoiceDate</th>\n",
       "      <th>UnitPrice</th>\n",
       "      <th>CustomerID</th>\n",
       "      <th>Country</th>\n",
       "    </tr>\n",
       "  </thead>\n",
       "  <tbody>\n",
       "    <tr>\n",
       "      <th>0</th>\n",
       "      <td>536365</td>\n",
       "      <td>85123A</td>\n",
       "      <td>WHITE HANGING HEART T-LIGHT HOLDER</td>\n",
       "      <td>6</td>\n",
       "      <td>2010-12-01 08:26:00</td>\n",
       "      <td>2.55</td>\n",
       "      <td>17850.0</td>\n",
       "      <td>United Kingdom</td>\n",
       "    </tr>\n",
       "    <tr>\n",
       "      <th>1</th>\n",
       "      <td>536365</td>\n",
       "      <td>71053</td>\n",
       "      <td>WHITE METAL LANTERN</td>\n",
       "      <td>6</td>\n",
       "      <td>2010-12-01 08:26:00</td>\n",
       "      <td>3.39</td>\n",
       "      <td>17850.0</td>\n",
       "      <td>United Kingdom</td>\n",
       "    </tr>\n",
       "    <tr>\n",
       "      <th>2</th>\n",
       "      <td>536365</td>\n",
       "      <td>84406B</td>\n",
       "      <td>CREAM CUPID HEARTS COAT HANGER</td>\n",
       "      <td>8</td>\n",
       "      <td>2010-12-01 08:26:00</td>\n",
       "      <td>2.75</td>\n",
       "      <td>17850.0</td>\n",
       "      <td>United Kingdom</td>\n",
       "    </tr>\n",
       "    <tr>\n",
       "      <th>3</th>\n",
       "      <td>536365</td>\n",
       "      <td>84029G</td>\n",
       "      <td>KNITTED UNION FLAG HOT WATER BOTTLE</td>\n",
       "      <td>6</td>\n",
       "      <td>2010-12-01 08:26:00</td>\n",
       "      <td>3.39</td>\n",
       "      <td>17850.0</td>\n",
       "      <td>United Kingdom</td>\n",
       "    </tr>\n",
       "    <tr>\n",
       "      <th>4</th>\n",
       "      <td>536365</td>\n",
       "      <td>84029E</td>\n",
       "      <td>RED WOOLLY HOTTIE WHITE HEART.</td>\n",
       "      <td>6</td>\n",
       "      <td>2010-12-01 08:26:00</td>\n",
       "      <td>3.39</td>\n",
       "      <td>17850.0</td>\n",
       "      <td>United Kingdom</td>\n",
       "    </tr>\n",
       "  </tbody>\n",
       "</table>\n",
       "</div>"
      ],
      "text/plain": [
       "  InvoiceNo StockCode                          Description  Quantity  \\\n",
       "0    536365    85123A   WHITE HANGING HEART T-LIGHT HOLDER         6   \n",
       "1    536365     71053                  WHITE METAL LANTERN         6   \n",
       "2    536365    84406B       CREAM CUPID HEARTS COAT HANGER         8   \n",
       "3    536365    84029G  KNITTED UNION FLAG HOT WATER BOTTLE         6   \n",
       "4    536365    84029E       RED WOOLLY HOTTIE WHITE HEART.         6   \n",
       "\n",
       "          InvoiceDate  UnitPrice  CustomerID         Country  \n",
       "0 2010-12-01 08:26:00       2.55     17850.0  United Kingdom  \n",
       "1 2010-12-01 08:26:00       3.39     17850.0  United Kingdom  \n",
       "2 2010-12-01 08:26:00       2.75     17850.0  United Kingdom  \n",
       "3 2010-12-01 08:26:00       3.39     17850.0  United Kingdom  \n",
       "4 2010-12-01 08:26:00       3.39     17850.0  United Kingdom  "
      ]
     },
     "execution_count": 2,
     "metadata": {},
     "output_type": "execute_result"
    }
   ],
   "source": [
    "df = pd.read_excel(\"Online Retail.xlsx\")\n",
    "df.head(5)"
   ]
  },
  {
   "cell_type": "code",
   "execution_count": 3,
   "id": "507bec7f-e5bc-48f6-bf01-990dc6c2a347",
   "metadata": {},
   "outputs": [
    {
     "name": "stdout",
     "output_type": "stream",
     "text": [
      "\n",
      " Rows & Columns of Dataset\n"
     ]
    },
    {
     "data": {
      "text/plain": [
       "(541909, 8)"
      ]
     },
     "execution_count": 3,
     "metadata": {},
     "output_type": "execute_result"
    }
   ],
   "source": [
    "print(\"\\n Rows & Columns of Dataset\")\n",
    "df.shape"
   ]
  },
  {
   "cell_type": "code",
   "execution_count": 4,
   "id": "319faed5-a173-493c-ae48-133175a3a45d",
   "metadata": {},
   "outputs": [
    {
     "name": "stdout",
     "output_type": "stream",
     "text": [
      "\n",
      " Dataset Information\n",
      "<class 'pandas.core.frame.DataFrame'>\n",
      "RangeIndex: 541909 entries, 0 to 541908\n",
      "Data columns (total 8 columns):\n",
      " #   Column       Non-Null Count   Dtype         \n",
      "---  ------       --------------   -----         \n",
      " 0   InvoiceNo    541909 non-null  object        \n",
      " 1   StockCode    541909 non-null  object        \n",
      " 2   Description  540455 non-null  object        \n",
      " 3   Quantity     541909 non-null  int64         \n",
      " 4   InvoiceDate  541909 non-null  datetime64[ns]\n",
      " 5   UnitPrice    541909 non-null  float64       \n",
      " 6   CustomerID   406829 non-null  float64       \n",
      " 7   Country      541909 non-null  object        \n",
      "dtypes: datetime64[ns](1), float64(2), int64(1), object(4)\n",
      "memory usage: 33.1+ MB\n"
     ]
    }
   ],
   "source": [
    "print(\"\\n Dataset Information\")\n",
    "df.info()"
   ]
  },
  {
   "cell_type": "code",
   "execution_count": 5,
   "id": "62b10b50-318f-4ff3-935a-4704caeece6b",
   "metadata": {
    "scrolled": true
   },
   "outputs": [
    {
     "name": "stdout",
     "output_type": "stream",
     "text": [
      "Summary statistics & Data distribution\n"
     ]
    },
    {
     "data": {
      "text/html": [
       "<div>\n",
       "<style scoped>\n",
       "    .dataframe tbody tr th:only-of-type {\n",
       "        vertical-align: middle;\n",
       "    }\n",
       "\n",
       "    .dataframe tbody tr th {\n",
       "        vertical-align: top;\n",
       "    }\n",
       "\n",
       "    .dataframe thead th {\n",
       "        text-align: right;\n",
       "    }\n",
       "</style>\n",
       "<table border=\"1\" class=\"dataframe\">\n",
       "  <thead>\n",
       "    <tr style=\"text-align: right;\">\n",
       "      <th></th>\n",
       "      <th>Quantity</th>\n",
       "      <th>InvoiceDate</th>\n",
       "      <th>UnitPrice</th>\n",
       "      <th>CustomerID</th>\n",
       "    </tr>\n",
       "  </thead>\n",
       "  <tbody>\n",
       "    <tr>\n",
       "      <th>count</th>\n",
       "      <td>541909.000000</td>\n",
       "      <td>541909</td>\n",
       "      <td>541909.000000</td>\n",
       "      <td>406829.000000</td>\n",
       "    </tr>\n",
       "    <tr>\n",
       "      <th>mean</th>\n",
       "      <td>9.552250</td>\n",
       "      <td>2011-07-04 13:34:57.156386048</td>\n",
       "      <td>4.611114</td>\n",
       "      <td>15287.690570</td>\n",
       "    </tr>\n",
       "    <tr>\n",
       "      <th>min</th>\n",
       "      <td>-80995.000000</td>\n",
       "      <td>2010-12-01 08:26:00</td>\n",
       "      <td>-11062.060000</td>\n",
       "      <td>12346.000000</td>\n",
       "    </tr>\n",
       "    <tr>\n",
       "      <th>25%</th>\n",
       "      <td>1.000000</td>\n",
       "      <td>2011-03-28 11:34:00</td>\n",
       "      <td>1.250000</td>\n",
       "      <td>13953.000000</td>\n",
       "    </tr>\n",
       "    <tr>\n",
       "      <th>50%</th>\n",
       "      <td>3.000000</td>\n",
       "      <td>2011-07-19 17:17:00</td>\n",
       "      <td>2.080000</td>\n",
       "      <td>15152.000000</td>\n",
       "    </tr>\n",
       "    <tr>\n",
       "      <th>75%</th>\n",
       "      <td>10.000000</td>\n",
       "      <td>2011-10-19 11:27:00</td>\n",
       "      <td>4.130000</td>\n",
       "      <td>16791.000000</td>\n",
       "    </tr>\n",
       "    <tr>\n",
       "      <th>max</th>\n",
       "      <td>80995.000000</td>\n",
       "      <td>2011-12-09 12:50:00</td>\n",
       "      <td>38970.000000</td>\n",
       "      <td>18287.000000</td>\n",
       "    </tr>\n",
       "    <tr>\n",
       "      <th>std</th>\n",
       "      <td>218.081158</td>\n",
       "      <td>NaN</td>\n",
       "      <td>96.759853</td>\n",
       "      <td>1713.600303</td>\n",
       "    </tr>\n",
       "  </tbody>\n",
       "</table>\n",
       "</div>"
      ],
      "text/plain": [
       "            Quantity                    InvoiceDate      UnitPrice  \\\n",
       "count  541909.000000                         541909  541909.000000   \n",
       "mean        9.552250  2011-07-04 13:34:57.156386048       4.611114   \n",
       "min    -80995.000000            2010-12-01 08:26:00  -11062.060000   \n",
       "25%         1.000000            2011-03-28 11:34:00       1.250000   \n",
       "50%         3.000000            2011-07-19 17:17:00       2.080000   \n",
       "75%        10.000000            2011-10-19 11:27:00       4.130000   \n",
       "max     80995.000000            2011-12-09 12:50:00   38970.000000   \n",
       "std       218.081158                            NaN      96.759853   \n",
       "\n",
       "          CustomerID  \n",
       "count  406829.000000  \n",
       "mean    15287.690570  \n",
       "min     12346.000000  \n",
       "25%     13953.000000  \n",
       "50%     15152.000000  \n",
       "75%     16791.000000  \n",
       "max     18287.000000  \n",
       "std      1713.600303  "
      ]
     },
     "execution_count": 5,
     "metadata": {},
     "output_type": "execute_result"
    }
   ],
   "source": [
    "print(\"Summary statistics & Data distribution\")\n",
    "df.describe()"
   ]
  },
  {
   "cell_type": "markdown",
   "id": "88f7957b-e6f2-4f49-9fcc-437567c59981",
   "metadata": {},
   "source": [
    "#### Handling Null values, Duplicate entries and Negative value "
   ]
  },
  {
   "cell_type": "code",
   "execution_count": 6,
   "id": "42c8717e-d935-40ce-820f-3186d36305f8",
   "metadata": {},
   "outputs": [
    {
     "name": "stdout",
     "output_type": "stream",
     "text": [
      "Checking... Missing value per column\n",
      "InvoiceNo           0\n",
      "StockCode           0\n",
      "Description      1454\n",
      "Quantity            0\n",
      "InvoiceDate         0\n",
      "UnitPrice           0\n",
      "CustomerID     135080\n",
      "Country             0\n",
      "dtype: int64\n"
     ]
    }
   ],
   "source": [
    "print(\"Checking... Missing value per column\")\n",
    "print(df.isna().sum())"
   ]
  },
  {
   "cell_type": "code",
   "execution_count": 7,
   "id": "b25d1ada-742c-450b-9fc6-a54f10494e0c",
   "metadata": {},
   "outputs": [
    {
     "name": "stdout",
     "output_type": "stream",
     "text": [
      " Missing value per column\n",
      "InvoiceNo      0\n",
      "StockCode      0\n",
      "Description    0\n",
      "Quantity       0\n",
      "InvoiceDate    0\n",
      "UnitPrice      0\n",
      "CustomerID     0\n",
      "Country        0\n",
      "dtype: int64\n"
     ]
    }
   ],
   "source": [
    "# Drop rows with missing CustomerID\n",
    "print(\" Missing value per column\")\n",
    "df.dropna(subset=[\"CustomerID\"], inplace=True)\n",
    "print(df.isna().sum())"
   ]
  },
  {
   "cell_type": "code",
   "execution_count": 8,
   "id": "30b493cf-9707-422c-99a6-59fd77c25288",
   "metadata": {},
   "outputs": [
    {
     "name": "stdout",
     "output_type": "stream",
     "text": [
      "Checking ... Number of duplicate rows: 5225\n"
     ]
    }
   ],
   "source": [
    "print(\"Checking ... Number of duplicate rows:\", df.duplicated().sum())"
   ]
  },
  {
   "cell_type": "code",
   "execution_count": 9,
   "id": "da2f9d42-ce52-400c-ab24-934b04f66452",
   "metadata": {},
   "outputs": [
    {
     "name": "stdout",
     "output_type": "stream",
     "text": [
      "Number of duplicate rows: 0\n"
     ]
    }
   ],
   "source": [
    "# Remove duplicate rows\n",
    "df.drop_duplicates(inplace=True)\n",
    "print(\"Number of duplicate rows:\", df.duplicated().sum())"
   ]
  },
  {
   "cell_type": "code",
   "execution_count": 10,
   "id": "5853d90a-461b-4a81-ba0b-6d43a77e1676",
   "metadata": {},
   "outputs": [
    {
     "name": "stdout",
     "output_type": "stream",
     "text": [
      "Checking..Number of rows with Quantity < 0: 8872\n"
     ]
    }
   ],
   "source": [
    "print(\"Checking..Number of rows with Quantity < 0:\", (df[\"Quantity\"] < 0).sum())"
   ]
  },
  {
   "cell_type": "code",
   "execution_count": 11,
   "id": "68bc3a2e-d361-4d11-bbcd-38ee71159b8e",
   "metadata": {},
   "outputs": [
    {
     "name": "stdout",
     "output_type": "stream",
     "text": [
      "Number of rows with Quantity < 0: 0\n"
     ]
    }
   ],
   "source": [
    "# Remove transactions with negative quantities (returns and errors)\n",
    "df = df[df[\"Quantity\"] > 0]  \n",
    "print(\"Number of rows with Quantity < 0:\", (df[\"Quantity\"] < 0).sum())"
   ]
  },
  {
   "cell_type": "markdown",
   "id": "5249aef7-8c7e-4624-837d-6c99643d7f2a",
   "metadata": {},
   "source": [
    "#### Convert Data Types & Feature Engineering"
   ]
  },
  {
   "cell_type": "code",
   "execution_count": 12,
   "id": "1935657c-eccc-4686-abe9-917dabba5351",
   "metadata": {},
   "outputs": [
    {
     "name": "stdout",
     "output_type": "stream",
     "text": [
      "\n",
      " Data Info After Type Conversion & Feature Engineering:\n",
      "<class 'pandas.core.frame.DataFrame'>\n",
      "Index: 392732 entries, 0 to 541908\n",
      "Data columns (total 9 columns):\n",
      " #   Column       Non-Null Count   Dtype         \n",
      "---  ------       --------------   -----         \n",
      " 0   InvoiceNo    392732 non-null  object        \n",
      " 1   StockCode    392732 non-null  object        \n",
      " 2   Description  392732 non-null  object        \n",
      " 3   Quantity     392732 non-null  int64         \n",
      " 4   InvoiceDate  392732 non-null  datetime64[ns]\n",
      " 5   UnitPrice    392732 non-null  float64       \n",
      " 6   CustomerID   392732 non-null  int32         \n",
      " 7   Country      392732 non-null  object        \n",
      " 8   TotalPrice   392732 non-null  float64       \n",
      "dtypes: datetime64[ns](1), float64(2), int32(1), int64(1), object(4)\n",
      "memory usage: 28.5+ MB\n"
     ]
    }
   ],
   "source": [
    "# Convert InvoiceDate to datetime format\n",
    "df[\"InvoiceDate\"] = pd.to_datetime(df[\"InvoiceDate\"])\n",
    "\n",
    "# Convert CustomerID to integer for consistency\n",
    "df[\"CustomerID\"] = df[\"CustomerID\"].astype(int)\n",
    "\n",
    "# Create a new column: Total Transaction Value\n",
    "df[\"TotalPrice\"] = df[\"Quantity\"] * df[\"UnitPrice\"]\n",
    "\n",
    "# Display dataset summary after conversion\n",
    "print(\"\\n Data Info After Type Conversion & Feature Engineering:\")\n",
    "df.info()"
   ]
  },
  {
   "cell_type": "markdown",
   "id": "05c65b2b-6a3b-4770-8061-5cdeab5df023",
   "metadata": {},
   "source": [
    "#### Optimize Data for Memory Efficiency"
   ]
  },
  {
   "cell_type": "code",
   "execution_count": 14,
   "id": "e9845e17-f5d2-459a-905c-462a974a1370",
   "metadata": {},
   "outputs": [
    {
     "ename": "NameError",
     "evalue": "name 'numeric_cols' is not defined",
     "output_type": "error",
     "traceback": [
      "\u001b[1;31m---------------------------------------------------------------------------\u001b[0m",
      "\u001b[1;31mNameError\u001b[0m                                 Traceback (most recent call last)",
      "Cell \u001b[1;32mIn[14], line 2\u001b[0m\n\u001b[0;32m      1\u001b[0m \u001b[38;5;66;03m# Convert float columns to float32 and int columns to int32 for memory optimization\u001b[39;00m\n\u001b[1;32m----> 2\u001b[0m \u001b[38;5;28;01mfor\u001b[39;00m col \u001b[38;5;129;01min\u001b[39;00m \u001b[43mnumeric_cols\u001b[49m\u001b[38;5;241m.\u001b[39mcolumns:\n\u001b[0;32m      3\u001b[0m     \u001b[38;5;28;01mif\u001b[39;00m df[col]\u001b[38;5;241m.\u001b[39mdtype \u001b[38;5;241m==\u001b[39m \u001b[38;5;124m\"\u001b[39m\u001b[38;5;124mfloat64\u001b[39m\u001b[38;5;124m\"\u001b[39m:\n\u001b[0;32m      4\u001b[0m         df[col] \u001b[38;5;241m=\u001b[39m df[col]\u001b[38;5;241m.\u001b[39mastype(\u001b[38;5;124m\"\u001b[39m\u001b[38;5;124mfloat32\u001b[39m\u001b[38;5;124m\"\u001b[39m)\n",
      "\u001b[1;31mNameError\u001b[0m: name 'numeric_cols' is not defined"
     ]
    }
   ],
   "source": [
    "# Convert float columns to float32 and int columns to int32 for memory optimization\n",
    "for col in numeric_cols.columns:\n",
    "    if df[col].dtype == \"float64\":\n",
    "        df[col] = df[col].astype(\"float32\")\n",
    "    elif df[col].dtype == \"int64\":\n",
    "        df[col] = df[col].astype(\"int32\")\n",
    "\n",
    "# Display final dataset summary\n",
    "print(\"\\n✅ Final Dataset Info After Optimization:\")\n",
    "df.info()"
   ]
  },
  {
   "cell_type": "code",
   "execution_count": 15,
   "id": "4479e2f6-9231-4213-8673-a320406f8d13",
   "metadata": {},
   "outputs": [
    {
     "name": "stdout",
     "output_type": "stream",
     "text": [
      "\n",
      " Numbers of Distinct Description \n"
     ]
    },
    {
     "data": {
      "text/plain": [
       "3877"
      ]
     },
     "execution_count": 15,
     "metadata": {},
     "output_type": "execute_result"
    }
   ],
   "source": [
    "print(\"\\n Numbers of Distinct Description \")\n",
    "df.Description.nunique()"
   ]
  },
  {
   "cell_type": "code",
   "execution_count": 17,
   "id": "0f32e92f-e180-42b0-b1d6-19e8d7e87821",
   "metadata": {},
   "outputs": [
    {
     "data": {
      "text/plain": [
       "Description\n",
       "WHITE HANGING HEART T-LIGHT HOLDER    2016\n",
       "REGENCY CAKESTAND 3 TIER              1714\n",
       "JUMBO BAG RED RETROSPOT               1615\n",
       "ASSORTED COLOUR BIRD ORNAMENT         1395\n",
       "PARTY BUNTING                         1390\n",
       "LUNCH BAG RED RETROSPOT               1303\n",
       "SET OF 3 CAKE TINS PANTRY DESIGN      1152\n",
       "POSTAGE                               1099\n",
       "LUNCH BAG  BLACK SKULL.               1078\n",
       "PACK OF 72 RETROSPOT CAKE CASES       1050\n",
       "Name: count, dtype: int64"
      ]
     },
     "execution_count": 17,
     "metadata": {},
     "output_type": "execute_result"
    }
   ],
   "source": [
    "df[\"Description\"].value_counts().sort_values(ascending=False).head(10)"
   ]
  },
  {
   "cell_type": "markdown",
   "id": "2d4f7165-1b4d-4b12-977b-39a05ec0262d",
   "metadata": {},
   "source": [
    "### Basket Apriori & Generate Association Rules"
   ]
  },
  {
   "cell_type": "code",
   "execution_count": 19,
   "id": "a185f60a-0d9b-438f-9950-7e4d4af2e53a",
   "metadata": {},
   "outputs": [
    {
     "data": {
      "text/html": [
       "<div>\n",
       "<style scoped>\n",
       "    .dataframe tbody tr th:only-of-type {\n",
       "        vertical-align: middle;\n",
       "    }\n",
       "\n",
       "    .dataframe tbody tr th {\n",
       "        vertical-align: top;\n",
       "    }\n",
       "\n",
       "    .dataframe thead th {\n",
       "        text-align: right;\n",
       "    }\n",
       "</style>\n",
       "<table border=\"1\" class=\"dataframe\">\n",
       "  <thead>\n",
       "    <tr style=\"text-align: right;\">\n",
       "      <th>Description</th>\n",
       "      <th>4 PURPLE FLOCK DINNER CANDLES</th>\n",
       "      <th>50'S CHRISTMAS GIFT BAG LARGE</th>\n",
       "      <th>DOLLY GIRL BEAKER</th>\n",
       "      <th>I LOVE LONDON MINI BACKPACK</th>\n",
       "      <th>I LOVE LONDON MINI RUCKSACK</th>\n",
       "      <th>NINE DRAWER OFFICE TIDY</th>\n",
       "      <th>OVAL WALL MIRROR DIAMANTE</th>\n",
       "      <th>RED SPOT GIFT BAG LARGE</th>\n",
       "      <th>SET 2 TEA TOWELS I LOVE LONDON</th>\n",
       "      <th>SPACEBOY BABY GIFT SET</th>\n",
       "      <th>...</th>\n",
       "      <th>ZINC STAR T-LIGHT HOLDER</th>\n",
       "      <th>ZINC SWEETHEART SOAP DISH</th>\n",
       "      <th>ZINC SWEETHEART WIRE LETTER RACK</th>\n",
       "      <th>ZINC T-LIGHT HOLDER STAR LARGE</th>\n",
       "      <th>ZINC T-LIGHT HOLDER STARS LARGE</th>\n",
       "      <th>ZINC T-LIGHT HOLDER STARS SMALL</th>\n",
       "      <th>ZINC TOP  2 DOOR WOODEN SHELF</th>\n",
       "      <th>ZINC WILLIE WINKIE  CANDLE STICK</th>\n",
       "      <th>ZINC WIRE KITCHEN ORGANISER</th>\n",
       "      <th>ZINC WIRE SWEETHEART LETTER TRAY</th>\n",
       "    </tr>\n",
       "    <tr>\n",
       "      <th>InvoiceNo</th>\n",
       "      <th></th>\n",
       "      <th></th>\n",
       "      <th></th>\n",
       "      <th></th>\n",
       "      <th></th>\n",
       "      <th></th>\n",
       "      <th></th>\n",
       "      <th></th>\n",
       "      <th></th>\n",
       "      <th></th>\n",
       "      <th></th>\n",
       "      <th></th>\n",
       "      <th></th>\n",
       "      <th></th>\n",
       "      <th></th>\n",
       "      <th></th>\n",
       "      <th></th>\n",
       "      <th></th>\n",
       "      <th></th>\n",
       "      <th></th>\n",
       "      <th></th>\n",
       "    </tr>\n",
       "  </thead>\n",
       "  <tbody>\n",
       "    <tr>\n",
       "      <th>536365</th>\n",
       "      <td>False</td>\n",
       "      <td>False</td>\n",
       "      <td>False</td>\n",
       "      <td>False</td>\n",
       "      <td>False</td>\n",
       "      <td>False</td>\n",
       "      <td>False</td>\n",
       "      <td>False</td>\n",
       "      <td>False</td>\n",
       "      <td>False</td>\n",
       "      <td>...</td>\n",
       "      <td>False</td>\n",
       "      <td>False</td>\n",
       "      <td>False</td>\n",
       "      <td>False</td>\n",
       "      <td>False</td>\n",
       "      <td>False</td>\n",
       "      <td>False</td>\n",
       "      <td>False</td>\n",
       "      <td>False</td>\n",
       "      <td>False</td>\n",
       "    </tr>\n",
       "    <tr>\n",
       "      <th>536366</th>\n",
       "      <td>False</td>\n",
       "      <td>False</td>\n",
       "      <td>False</td>\n",
       "      <td>False</td>\n",
       "      <td>False</td>\n",
       "      <td>False</td>\n",
       "      <td>False</td>\n",
       "      <td>False</td>\n",
       "      <td>False</td>\n",
       "      <td>False</td>\n",
       "      <td>...</td>\n",
       "      <td>False</td>\n",
       "      <td>False</td>\n",
       "      <td>False</td>\n",
       "      <td>False</td>\n",
       "      <td>False</td>\n",
       "      <td>False</td>\n",
       "      <td>False</td>\n",
       "      <td>False</td>\n",
       "      <td>False</td>\n",
       "      <td>False</td>\n",
       "    </tr>\n",
       "    <tr>\n",
       "      <th>536367</th>\n",
       "      <td>False</td>\n",
       "      <td>False</td>\n",
       "      <td>False</td>\n",
       "      <td>False</td>\n",
       "      <td>False</td>\n",
       "      <td>False</td>\n",
       "      <td>False</td>\n",
       "      <td>False</td>\n",
       "      <td>False</td>\n",
       "      <td>False</td>\n",
       "      <td>...</td>\n",
       "      <td>False</td>\n",
       "      <td>False</td>\n",
       "      <td>False</td>\n",
       "      <td>False</td>\n",
       "      <td>False</td>\n",
       "      <td>False</td>\n",
       "      <td>False</td>\n",
       "      <td>False</td>\n",
       "      <td>False</td>\n",
       "      <td>False</td>\n",
       "    </tr>\n",
       "    <tr>\n",
       "      <th>536368</th>\n",
       "      <td>False</td>\n",
       "      <td>False</td>\n",
       "      <td>False</td>\n",
       "      <td>False</td>\n",
       "      <td>False</td>\n",
       "      <td>False</td>\n",
       "      <td>False</td>\n",
       "      <td>False</td>\n",
       "      <td>False</td>\n",
       "      <td>False</td>\n",
       "      <td>...</td>\n",
       "      <td>False</td>\n",
       "      <td>False</td>\n",
       "      <td>False</td>\n",
       "      <td>False</td>\n",
       "      <td>False</td>\n",
       "      <td>False</td>\n",
       "      <td>False</td>\n",
       "      <td>False</td>\n",
       "      <td>False</td>\n",
       "      <td>False</td>\n",
       "    </tr>\n",
       "    <tr>\n",
       "      <th>536369</th>\n",
       "      <td>False</td>\n",
       "      <td>False</td>\n",
       "      <td>False</td>\n",
       "      <td>False</td>\n",
       "      <td>False</td>\n",
       "      <td>False</td>\n",
       "      <td>False</td>\n",
       "      <td>False</td>\n",
       "      <td>False</td>\n",
       "      <td>False</td>\n",
       "      <td>...</td>\n",
       "      <td>False</td>\n",
       "      <td>False</td>\n",
       "      <td>False</td>\n",
       "      <td>False</td>\n",
       "      <td>False</td>\n",
       "      <td>False</td>\n",
       "      <td>False</td>\n",
       "      <td>False</td>\n",
       "      <td>False</td>\n",
       "      <td>False</td>\n",
       "    </tr>\n",
       "  </tbody>\n",
       "</table>\n",
       "<p>5 rows × 3877 columns</p>\n",
       "</div>"
      ],
      "text/plain": [
       "Description   4 PURPLE FLOCK DINNER CANDLES   50'S CHRISTMAS GIFT BAG LARGE  \\\n",
       "InvoiceNo                                                                     \n",
       "536365                                False                           False   \n",
       "536366                                False                           False   \n",
       "536367                                False                           False   \n",
       "536368                                False                           False   \n",
       "536369                                False                           False   \n",
       "\n",
       "Description   DOLLY GIRL BEAKER   I LOVE LONDON MINI BACKPACK  \\\n",
       "InvoiceNo                                                       \n",
       "536365                    False                         False   \n",
       "536366                    False                         False   \n",
       "536367                    False                         False   \n",
       "536368                    False                         False   \n",
       "536369                    False                         False   \n",
       "\n",
       "Description   I LOVE LONDON MINI RUCKSACK   NINE DRAWER OFFICE TIDY  \\\n",
       "InvoiceNo                                                             \n",
       "536365                              False                     False   \n",
       "536366                              False                     False   \n",
       "536367                              False                     False   \n",
       "536368                              False                     False   \n",
       "536369                              False                     False   \n",
       "\n",
       "Description   OVAL WALL MIRROR DIAMANTE    RED SPOT GIFT BAG LARGE  \\\n",
       "InvoiceNo                                                            \n",
       "536365                             False                     False   \n",
       "536366                             False                     False   \n",
       "536367                             False                     False   \n",
       "536368                             False                     False   \n",
       "536369                             False                     False   \n",
       "\n",
       "Description   SET 2 TEA TOWELS I LOVE LONDON    SPACEBOY BABY GIFT SET  ...  \\\n",
       "InvoiceNo                                                               ...   \n",
       "536365                                  False                    False  ...   \n",
       "536366                                  False                    False  ...   \n",
       "536367                                  False                    False  ...   \n",
       "536368                                  False                    False  ...   \n",
       "536369                                  False                    False  ...   \n",
       "\n",
       "Description  ZINC STAR T-LIGHT HOLDER   ZINC SWEETHEART SOAP DISH  \\\n",
       "InvoiceNo                                                           \n",
       "536365                           False                      False   \n",
       "536366                           False                      False   \n",
       "536367                           False                      False   \n",
       "536368                           False                      False   \n",
       "536369                           False                      False   \n",
       "\n",
       "Description  ZINC SWEETHEART WIRE LETTER RACK  ZINC T-LIGHT HOLDER STAR LARGE  \\\n",
       "InvoiceNo                                                                       \n",
       "536365                                  False                           False   \n",
       "536366                                  False                           False   \n",
       "536367                                  False                           False   \n",
       "536368                                  False                           False   \n",
       "536369                                  False                           False   \n",
       "\n",
       "Description  ZINC T-LIGHT HOLDER STARS LARGE  ZINC T-LIGHT HOLDER STARS SMALL  \\\n",
       "InvoiceNo                                                                       \n",
       "536365                                 False                            False   \n",
       "536366                                 False                            False   \n",
       "536367                                 False                            False   \n",
       "536368                                 False                            False   \n",
       "536369                                 False                            False   \n",
       "\n",
       "Description  ZINC TOP  2 DOOR WOODEN SHELF   ZINC WILLIE WINKIE  CANDLE STICK  \\\n",
       "InvoiceNo                                                                       \n",
       "536365                                False                             False   \n",
       "536366                                False                             False   \n",
       "536367                                False                             False   \n",
       "536368                                False                             False   \n",
       "536369                                False                             False   \n",
       "\n",
       "Description  ZINC WIRE KITCHEN ORGANISER  ZINC WIRE SWEETHEART LETTER TRAY  \n",
       "InvoiceNo                                                                   \n",
       "536365                             False                             False  \n",
       "536366                             False                             False  \n",
       "536367                             False                             False  \n",
       "536368                             False                             False  \n",
       "536369                             False                             False  \n",
       "\n",
       "[5 rows x 3877 columns]"
      ]
     },
     "execution_count": 19,
     "metadata": {},
     "output_type": "execute_result"
    }
   ],
   "source": [
    "basket = (df.groupby(['InvoiceNo', 'Description'])['Quantity'].sum().unstack().fillna(0))\n",
    "basket = basket.applymap(lambda x: x > 0)\n",
    "basket.head()"
   ]
  },
  {
   "cell_type": "code",
   "execution_count": 20,
   "id": "5f8cbba5-4ceb-49e3-a622-509c53f86221",
   "metadata": {},
   "outputs": [
    {
     "data": {
      "text/html": [
       "<div>\n",
       "<style scoped>\n",
       "    .dataframe tbody tr th:only-of-type {\n",
       "        vertical-align: middle;\n",
       "    }\n",
       "\n",
       "    .dataframe tbody tr th {\n",
       "        vertical-align: top;\n",
       "    }\n",
       "\n",
       "    .dataframe thead th {\n",
       "        text-align: right;\n",
       "    }\n",
       "</style>\n",
       "<table border=\"1\" class=\"dataframe\">\n",
       "  <thead>\n",
       "    <tr style=\"text-align: right;\">\n",
       "      <th></th>\n",
       "      <th>antecedents</th>\n",
       "      <th>consequents</th>\n",
       "      <th>antecedent support</th>\n",
       "      <th>consequent support</th>\n",
       "      <th>support</th>\n",
       "      <th>confidence</th>\n",
       "      <th>lift</th>\n",
       "      <th>representativity</th>\n",
       "      <th>leverage</th>\n",
       "      <th>conviction</th>\n",
       "      <th>zhangs_metric</th>\n",
       "      <th>jaccard</th>\n",
       "      <th>certainty</th>\n",
       "      <th>kulczynski</th>\n",
       "    </tr>\n",
       "  </thead>\n",
       "  <tbody>\n",
       "    <tr>\n",
       "      <th>475</th>\n",
       "      <td>(REGENCY TEA PLATE PINK)</td>\n",
       "      <td>(REGENCY TEA PLATE GREEN )</td>\n",
       "      <td>0.012085</td>\n",
       "      <td>0.014566</td>\n",
       "      <td>0.010898</td>\n",
       "      <td>0.901786</td>\n",
       "      <td>61.909259</td>\n",
       "      <td>1.0</td>\n",
       "      <td>0.010722</td>\n",
       "      <td>10.033507</td>\n",
       "      <td>0.995882</td>\n",
       "      <td>0.691781</td>\n",
       "      <td>0.900334</td>\n",
       "      <td>0.824967</td>\n",
       "    </tr>\n",
       "    <tr>\n",
       "      <th>476</th>\n",
       "      <td>(REGENCY TEA PLATE GREEN )</td>\n",
       "      <td>(REGENCY TEA PLATE PINK)</td>\n",
       "      <td>0.014566</td>\n",
       "      <td>0.012085</td>\n",
       "      <td>0.010898</td>\n",
       "      <td>0.748148</td>\n",
       "      <td>61.909259</td>\n",
       "      <td>1.0</td>\n",
       "      <td>0.010722</td>\n",
       "      <td>3.922605</td>\n",
       "      <td>0.998390</td>\n",
       "      <td>0.691781</td>\n",
       "      <td>0.745067</td>\n",
       "      <td>0.824967</td>\n",
       "    </tr>\n",
       "    <tr>\n",
       "      <th>800</th>\n",
       "      <td>(POPPY'S PLAYHOUSE KITCHEN, POPPY'S PLAYHOUSE ...</td>\n",
       "      <td>(POPPY'S PLAYHOUSE LIVINGROOM )</td>\n",
       "      <td>0.013703</td>\n",
       "      <td>0.013595</td>\n",
       "      <td>0.010035</td>\n",
       "      <td>0.732283</td>\n",
       "      <td>53.863517</td>\n",
       "      <td>1.0</td>\n",
       "      <td>0.009848</td>\n",
       "      <td>3.684512</td>\n",
       "      <td>0.995070</td>\n",
       "      <td>0.581250</td>\n",
       "      <td>0.728594</td>\n",
       "      <td>0.735189</td>\n",
       "    </tr>\n",
       "    <tr>\n",
       "      <th>803</th>\n",
       "      <td>(POPPY'S PLAYHOUSE LIVINGROOM )</td>\n",
       "      <td>(POPPY'S PLAYHOUSE KITCHEN, POPPY'S PLAYHOUSE ...</td>\n",
       "      <td>0.013595</td>\n",
       "      <td>0.013703</td>\n",
       "      <td>0.010035</td>\n",
       "      <td>0.738095</td>\n",
       "      <td>53.863517</td>\n",
       "      <td>1.0</td>\n",
       "      <td>0.009848</td>\n",
       "      <td>3.765861</td>\n",
       "      <td>0.994961</td>\n",
       "      <td>0.581250</td>\n",
       "      <td>0.734456</td>\n",
       "      <td>0.735189</td>\n",
       "    </tr>\n",
       "    <tr>\n",
       "      <th>469</th>\n",
       "      <td>(REGENCY MILK JUG PINK )</td>\n",
       "      <td>(REGENCY SUGAR BOWL GREEN)</td>\n",
       "      <td>0.014674</td>\n",
       "      <td>0.014458</td>\n",
       "      <td>0.011114</td>\n",
       "      <td>0.757353</td>\n",
       "      <td>52.381694</td>\n",
       "      <td>1.0</td>\n",
       "      <td>0.010901</td>\n",
       "      <td>4.061626</td>\n",
       "      <td>0.995518</td>\n",
       "      <td>0.616766</td>\n",
       "      <td>0.753793</td>\n",
       "      <td>0.763005</td>\n",
       "    </tr>\n",
       "  </tbody>\n",
       "</table>\n",
       "</div>"
      ],
      "text/plain": [
       "                                           antecedents  \\\n",
       "475                           (REGENCY TEA PLATE PINK)   \n",
       "476                         (REGENCY TEA PLATE GREEN )   \n",
       "800  (POPPY'S PLAYHOUSE KITCHEN, POPPY'S PLAYHOUSE ...   \n",
       "803                    (POPPY'S PLAYHOUSE LIVINGROOM )   \n",
       "469                           (REGENCY MILK JUG PINK )   \n",
       "\n",
       "                                           consequents  antecedent support  \\\n",
       "475                         (REGENCY TEA PLATE GREEN )            0.012085   \n",
       "476                           (REGENCY TEA PLATE PINK)            0.014566   \n",
       "800                    (POPPY'S PLAYHOUSE LIVINGROOM )            0.013703   \n",
       "803  (POPPY'S PLAYHOUSE KITCHEN, POPPY'S PLAYHOUSE ...            0.013595   \n",
       "469                         (REGENCY SUGAR BOWL GREEN)            0.014674   \n",
       "\n",
       "     consequent support   support  confidence       lift  representativity  \\\n",
       "475            0.014566  0.010898    0.901786  61.909259               1.0   \n",
       "476            0.012085  0.010898    0.748148  61.909259               1.0   \n",
       "800            0.013595  0.010035    0.732283  53.863517               1.0   \n",
       "803            0.013703  0.010035    0.738095  53.863517               1.0   \n",
       "469            0.014458  0.011114    0.757353  52.381694               1.0   \n",
       "\n",
       "     leverage  conviction  zhangs_metric   jaccard  certainty  kulczynski  \n",
       "475  0.010722   10.033507       0.995882  0.691781   0.900334    0.824967  \n",
       "476  0.010722    3.922605       0.998390  0.691781   0.745067    0.824967  \n",
       "800  0.009848    3.684512       0.995070  0.581250   0.728594    0.735189  \n",
       "803  0.009848    3.765861       0.994961  0.581250   0.734456    0.735189  \n",
       "469  0.010901    4.061626       0.995518  0.616766   0.753793    0.763005  "
      ]
     },
     "execution_count": 20,
     "metadata": {},
     "output_type": "execute_result"
    }
   ],
   "source": [
    "from mlxtend.frequent_patterns import apriori, association_rules\n",
    "\n",
    "frequent_itemsets = apriori(basket, min_support=0.01, use_colnames=True)\n",
    "rules = association_rules(frequent_itemsets, metric=\"lift\", min_threshold=0.5)\n",
    "rules = association_rules(frequent_itemsets, metric=\"confidence\", min_threshold=0.2)\n",
    "rules = rules.sort_values(by=\"lift\", ascending=False)\n",
    "rules.head()"
   ]
  },
  {
   "cell_type": "code",
   "execution_count": 21,
   "id": "2f4c604c-4c30-4b8b-a39f-ae8cdd10f6c8",
   "metadata": {},
   "outputs": [
    {
     "data": {
      "text/html": [
       "<div>\n",
       "<style scoped>\n",
       "    .dataframe tbody tr th:only-of-type {\n",
       "        vertical-align: middle;\n",
       "    }\n",
       "\n",
       "    .dataframe tbody tr th {\n",
       "        vertical-align: top;\n",
       "    }\n",
       "\n",
       "    .dataframe thead th {\n",
       "        text-align: right;\n",
       "    }\n",
       "</style>\n",
       "<table border=\"1\" class=\"dataframe\">\n",
       "  <thead>\n",
       "    <tr style=\"text-align: right;\">\n",
       "      <th></th>\n",
       "      <th>antecedents</th>\n",
       "      <th>consequents</th>\n",
       "      <th>support</th>\n",
       "      <th>confidence</th>\n",
       "      <th>lift</th>\n",
       "    </tr>\n",
       "  </thead>\n",
       "  <tbody>\n",
       "    <tr>\n",
       "      <th>475</th>\n",
       "      <td>(REGENCY TEA PLATE PINK)</td>\n",
       "      <td>(REGENCY TEA PLATE GREEN )</td>\n",
       "      <td>0.010898</td>\n",
       "      <td>0.901786</td>\n",
       "      <td>61.909259</td>\n",
       "    </tr>\n",
       "    <tr>\n",
       "      <th>476</th>\n",
       "      <td>(REGENCY TEA PLATE GREEN )</td>\n",
       "      <td>(REGENCY TEA PLATE PINK)</td>\n",
       "      <td>0.010898</td>\n",
       "      <td>0.748148</td>\n",
       "      <td>61.909259</td>\n",
       "    </tr>\n",
       "    <tr>\n",
       "      <th>800</th>\n",
       "      <td>(POPPY'S PLAYHOUSE KITCHEN, POPPY'S PLAYHOUSE ...</td>\n",
       "      <td>(POPPY'S PLAYHOUSE LIVINGROOM )</td>\n",
       "      <td>0.010035</td>\n",
       "      <td>0.732283</td>\n",
       "      <td>53.863517</td>\n",
       "    </tr>\n",
       "    <tr>\n",
       "      <th>803</th>\n",
       "      <td>(POPPY'S PLAYHOUSE LIVINGROOM )</td>\n",
       "      <td>(POPPY'S PLAYHOUSE KITCHEN, POPPY'S PLAYHOUSE ...</td>\n",
       "      <td>0.010035</td>\n",
       "      <td>0.738095</td>\n",
       "      <td>53.863517</td>\n",
       "    </tr>\n",
       "    <tr>\n",
       "      <th>469</th>\n",
       "      <td>(REGENCY MILK JUG PINK )</td>\n",
       "      <td>(REGENCY SUGAR BOWL GREEN)</td>\n",
       "      <td>0.011114</td>\n",
       "      <td>0.757353</td>\n",
       "      <td>52.381694</td>\n",
       "    </tr>\n",
       "  </tbody>\n",
       "</table>\n",
       "</div>"
      ],
      "text/plain": [
       "                                           antecedents  \\\n",
       "475                           (REGENCY TEA PLATE PINK)   \n",
       "476                         (REGENCY TEA PLATE GREEN )   \n",
       "800  (POPPY'S PLAYHOUSE KITCHEN, POPPY'S PLAYHOUSE ...   \n",
       "803                    (POPPY'S PLAYHOUSE LIVINGROOM )   \n",
       "469                           (REGENCY MILK JUG PINK )   \n",
       "\n",
       "                                           consequents   support  confidence  \\\n",
       "475                         (REGENCY TEA PLATE GREEN )  0.010898    0.901786   \n",
       "476                           (REGENCY TEA PLATE PINK)  0.010898    0.748148   \n",
       "800                    (POPPY'S PLAYHOUSE LIVINGROOM )  0.010035    0.732283   \n",
       "803  (POPPY'S PLAYHOUSE KITCHEN, POPPY'S PLAYHOUSE ...  0.010035    0.738095   \n",
       "469                         (REGENCY SUGAR BOWL GREEN)  0.011114    0.757353   \n",
       "\n",
       "          lift  \n",
       "475  61.909259  \n",
       "476  61.909259  \n",
       "800  53.863517  \n",
       "803  53.863517  \n",
       "469  52.381694  "
      ]
     },
     "execution_count": 21,
     "metadata": {},
     "output_type": "execute_result"
    }
   ],
   "source": [
    "result = rules[['antecedents', 'consequents', 'support', 'confidence', 'lift']]\n",
    "# result.to_csv(\"frequent_itemsets.csv\", index = False)\n",
    "result.head()"
   ]
  },
  {
   "cell_type": "markdown",
   "id": "286d73fd-8dc5-43e1-8770-1dba6228ce80",
   "metadata": {},
   "source": [
    "#### Monthly Sales Revenue (Aggregated by Invoice Date)"
   ]
  },
  {
   "cell_type": "code",
   "execution_count": 23,
   "id": "8f9650a4-4273-41af-9589-1e46570181b1",
   "metadata": {},
   "outputs": [
    {
     "data": {
      "image/png": "[encoded data removed]",
      "text/plain": [
       "<Figure size 1000x500 with 1 Axes>"
      ]
     },
     "metadata": {},
     "output_type": "display_data"
    }
   ],
   "source": [
    "df[\"YearMonth\"] = df[\"InvoiceDate\"].dt.to_period(\"M\")\n",
    "\n",
    "monthly_revenue = df.groupby(\"YearMonth\")[\"TotalPrice\"].sum()\n",
    "\n",
    "plt.figure(figsize=(10,5))\n",
    "sns.lineplot(x=monthly_revenue.index.astype(str), y=monthly_revenue.values, marker = \"o\")\n",
    "plt.xticks(rotation =45)\n",
    "plt.title(\"Monthly Revenue Trends\")\n",
    "plt.xlabel(\"Month\")\n",
    "plt.ylabel(\"Total Revenue\")\n",
    "plt.grid(True)\n",
    "plt.show()"
   ]
  },
  {
   "cell_type": "markdown",
   "id": "50a97504-65f6-4bd3-a74d-548602135574",
   "metadata": {},
   "source": [
    "#### Revenue Distribution Across Top 10 Countries"
   ]
  },
  {
   "cell_type": "code",
   "execution_count": 24,
   "id": "faf2b629-ac8c-40d7-a2e4-59e4ddfe7fcc",
   "metadata": {},
   "outputs": [
    {
     "data": {
      "image/png": "[encoded data removed]",
      "text/plain": [
       "<Figure size 1000x500 with 1 Axes>"
      ]
     },
     "metadata": {},
     "output_type": "display_data"
    }
   ],
   "source": [
    "country_revenue = df.groupby(\"Country\")[\"TotalPrice\"].sum().sort_values(ascending=False).head(10)\n",
    "\n",
    "plt.figure(figsize=(10,5))\n",
    "sns.barplot(x=country_revenue.index, y=country_revenue.values,hue=country_revenue.index, palette=\"coolwarm\",legend=False)\n",
    "plt.xticks(rotation=45)\n",
    "plt.title(\"Top 10 Countries by Revenue\")\n",
    "plt.xlabel(\"Country\")\n",
    "plt.ylabel(\"Total Revenue\")\n",
    "plt.show()"
   ]
  },
  {
   "cell_type": "markdown",
   "id": "1ab9aa79-9c7c-4c7b-8b0b-c79c5a30a7a1",
   "metadata": {},
   "source": [
    "#### Customer Segmentation with K-Means & RFM Analysis"
   ]
  },
  {
   "cell_type": "code",
   "execution_count": 24,
   "id": "e94c29f8-9c9c-414d-a6b8-7c476eb3d5cc",
   "metadata": {},
   "outputs": [
    {
     "data": {
      "image/png": "[encoded data removed]",
      "text/plain": [
       "<Figure size 1000x500 with 1 Axes>"
      ]
     },
     "metadata": {},
     "output_type": "display_data"
    }
   ],
   "source": [
    "customer_spend = df.groupby(\"CustomerID\")[\"TotalPrice\"].sum()\n",
    "\n",
    "plt.figure(figsize=(10,5))\n",
    "sns.histplot(customer_spend, bins = 50, kde=True)\n",
    "plt.title(\"Customer Spending Distribution\")\n",
    "plt.xlabel(\"Total spend per  Customer\")\n",
    "plt.ylabel(\"Customer Count\")\n",
    "plt.xlim(0, customer_spend.quantile(0.99))\n",
    "plt.show()"
   ]
  },
  {
   "cell_type": "code",
   "execution_count": 25,
   "id": "174e4ffd-df48-4a64-a9be-cb8278dee954",
   "metadata": {},
   "outputs": [
    {
     "data": {
      "text/html": [
       "<div>\n",
       "<style scoped>\n",
       "    .dataframe tbody tr th:only-of-type {\n",
       "        vertical-align: middle;\n",
       "    }\n",
       "\n",
       "    .dataframe tbody tr th {\n",
       "        vertical-align: top;\n",
       "    }\n",
       "\n",
       "    .dataframe thead th {\n",
       "        text-align: right;\n",
       "    }\n",
       "</style>\n",
       "<table border=\"1\" class=\"dataframe\">\n",
       "  <thead>\n",
       "    <tr style=\"text-align: right;\">\n",
       "      <th></th>\n",
       "      <th>Recency</th>\n",
       "      <th>Frequency</th>\n",
       "      <th>Monetary</th>\n",
       "    </tr>\n",
       "  </thead>\n",
       "  <tbody>\n",
       "    <tr>\n",
       "      <th>count</th>\n",
       "      <td>4339.000000</td>\n",
       "      <td>4339.000000</td>\n",
       "      <td>4339.000000</td>\n",
       "    </tr>\n",
       "    <tr>\n",
       "      <th>mean</th>\n",
       "      <td>91.518322</td>\n",
       "      <td>4.271952</td>\n",
       "      <td>2048.215924</td>\n",
       "    </tr>\n",
       "    <tr>\n",
       "      <th>std</th>\n",
       "      <td>100.009747</td>\n",
       "      <td>7.705493</td>\n",
       "      <td>8984.248352</td>\n",
       "    </tr>\n",
       "    <tr>\n",
       "      <th>min</th>\n",
       "      <td>0.000000</td>\n",
       "      <td>1.000000</td>\n",
       "      <td>0.000000</td>\n",
       "    </tr>\n",
       "    <tr>\n",
       "      <th>25%</th>\n",
       "      <td>17.000000</td>\n",
       "      <td>1.000000</td>\n",
       "      <td>306.455000</td>\n",
       "    </tr>\n",
       "    <tr>\n",
       "      <th>50%</th>\n",
       "      <td>50.000000</td>\n",
       "      <td>2.000000</td>\n",
       "      <td>668.560000</td>\n",
       "    </tr>\n",
       "    <tr>\n",
       "      <th>75%</th>\n",
       "      <td>141.000000</td>\n",
       "      <td>5.000000</td>\n",
       "      <td>1660.315000</td>\n",
       "    </tr>\n",
       "    <tr>\n",
       "      <th>max</th>\n",
       "      <td>373.000000</td>\n",
       "      <td>210.000000</td>\n",
       "      <td>280206.020000</td>\n",
       "    </tr>\n",
       "  </tbody>\n",
       "</table>\n",
       "</div>"
      ],
      "text/plain": [
       "           Recency    Frequency       Monetary\n",
       "count  4339.000000  4339.000000    4339.000000\n",
       "mean     91.518322     4.271952    2048.215924\n",
       "std     100.009747     7.705493    8984.248352\n",
       "min       0.000000     1.000000       0.000000\n",
       "25%      17.000000     1.000000     306.455000\n",
       "50%      50.000000     2.000000     668.560000\n",
       "75%     141.000000     5.000000    1660.315000\n",
       "max     373.000000   210.000000  280206.020000"
      ]
     },
     "execution_count": 25,
     "metadata": {},
     "output_type": "execute_result"
    }
   ],
   "source": [
    "reference_date = df[\"InvoiceDate\"].max()\n",
    "\n",
    "rmf = df.groupby(\"CustomerID\").agg({\n",
    "    \"InvoiceDate\": lambda x: (reference_date - x.max()).days,\n",
    "    \"InvoiceNo\": \"nunique\",\n",
    "    \"TotalPrice\" : \"sum\"\n",
    "})\n",
    "\n",
    "rmf.columns = [\"Recency\",\"Frequency\",\"Monetary\"]\n",
    "rmf.describe()"
   ]
  },
  {
   "cell_type": "code",
   "execution_count": 26,
   "id": "ab44f0a8-4eb9-4a52-bd69-a4d149f2bb9b",
   "metadata": {},
   "outputs": [
    {
     "data": {
      "text/html": [
       "<div>\n",
       "<style scoped>\n",
       "    .dataframe tbody tr th:only-of-type {\n",
       "        vertical-align: middle;\n",
       "    }\n",
       "\n",
       "    .dataframe tbody tr th {\n",
       "        vertical-align: top;\n",
       "    }\n",
       "\n",
       "    .dataframe thead th {\n",
       "        text-align: right;\n",
       "    }\n",
       "</style>\n",
       "<table border=\"1\" class=\"dataframe\">\n",
       "  <thead>\n",
       "    <tr style=\"text-align: right;\">\n",
       "      <th></th>\n",
       "      <th>Rececncy</th>\n",
       "      <th>Frequency</th>\n",
       "      <th>Monetary</th>\n",
       "    </tr>\n",
       "  </thead>\n",
       "  <tbody>\n",
       "    <tr>\n",
       "      <th>0</th>\n",
       "      <td>2.334858</td>\n",
       "      <td>-0.424675</td>\n",
       "      <td>8.363977</td>\n",
       "    </tr>\n",
       "    <tr>\n",
       "      <th>1</th>\n",
       "      <td>-0.905199</td>\n",
       "      <td>0.354080</td>\n",
       "      <td>0.251779</td>\n",
       "    </tr>\n",
       "    <tr>\n",
       "      <th>2</th>\n",
       "      <td>-0.175186</td>\n",
       "      <td>-0.035297</td>\n",
       "      <td>-0.027938</td>\n",
       "    </tr>\n",
       "    <tr>\n",
       "      <th>3</th>\n",
       "      <td>-0.735196</td>\n",
       "      <td>-0.424675</td>\n",
       "      <td>-0.032357</td>\n",
       "    </tr>\n",
       "    <tr>\n",
       "      <th>4</th>\n",
       "      <td>2.174855</td>\n",
       "      <td>-0.424675</td>\n",
       "      <td>-0.190780</td>\n",
       "    </tr>\n",
       "  </tbody>\n",
       "</table>\n",
       "</div>"
      ],
      "text/plain": [
       "   Rececncy  Frequency  Monetary\n",
       "0  2.334858  -0.424675  8.363977\n",
       "1 -0.905199   0.354080  0.251779\n",
       "2 -0.175186  -0.035297 -0.027938\n",
       "3 -0.735196  -0.424675 -0.032357\n",
       "4  2.174855  -0.424675 -0.190780"
      ]
     },
     "execution_count": 26,
     "metadata": {},
     "output_type": "execute_result"
    }
   ],
   "source": [
    "from sklearn.preprocessing import StandardScaler\n",
    "\n",
    "scaler = StandardScaler()\n",
    "rmf_scaled = scaler.fit_transform(rmf)\n",
    "\n",
    "pd.DataFrame(rmf_scaled, columns=[\"Rececncy\",\"Frequency\",\"Monetary\"]).head()"
   ]
  },
  {
   "cell_type": "code",
   "execution_count": 27,
   "id": "a800c2fb-fc6f-406b-a49b-aba8d7e14da1",
   "metadata": {},
   "outputs": [
    {
     "name": "stderr",
     "output_type": "stream",
     "text": [
      "C:\\Users\\ASUS\\anaconda3\\lib\\site-packages\\yellowbrick\\style\\colors.py:35: DeprecationWarning: distutils Version classes are deprecated. Use packaging.version instead.\n",
      "  mpl_ge_150 = LooseVersion(mpl.__version__) >= \"1.5.0\"\n",
      "C:\\Users\\ASUS\\anaconda3\\lib\\site-packages\\setuptools\\_distutils\\version.py:337: DeprecationWarning: distutils Version classes are deprecated. Use packaging.version instead.\n",
      "  other = LooseVersion(other)\n",
      "C:\\Users\\ASUS\\anaconda3\\lib\\site-packages\\yellowbrick\\style\\rcmod.py:31: DeprecationWarning: distutils Version classes are deprecated. Use packaging.version instead.\n",
      "  mpl_ge_150 = LooseVersion(mpl.__version__) >= \"1.5.0\"\n",
      "C:\\Users\\ASUS\\anaconda3\\lib\\site-packages\\setuptools\\_distutils\\version.py:337: DeprecationWarning: distutils Version classes are deprecated. Use packaging.version instead.\n",
      "  other = LooseVersion(other)\n"
     ]
    },
    {
     "data": {
      "image/png": "[encoded data removed]",
      "text/plain": [
       "<Figure size 800x550 with 2 Axes>"
      ]
     },
     "metadata": {},
     "output_type": "display_data"
    },
    {
     "data": {
      "text/plain": [
       "<Axes: title={'center': 'Distortion Score Elbow for KMeans Clustering'}, xlabel='k', ylabel='distortion score'>"
      ]
     },
     "execution_count": 27,
     "metadata": {},
     "output_type": "execute_result"
    }
   ],
   "source": [
    "from sklearn.cluster import KMeans\n",
    "from yellowbrick.cluster import KElbowVisualizer\n",
    "\n",
    "model = KMeans(n_init=10, random_state=42)\n",
    "visulaizer = KElbowVisualizer(model, k=(2,10), metrics = \"distortion\", timing = False)\n",
    "visulaizer.fit(rmf_scaled)\n",
    "visulaizer.show()"
   ]
  },
  {
   "cell_type": "code",
   "execution_count": 28,
   "id": "6d95b685-40d6-48fd-bce0-51c2a9df1654",
   "metadata": {},
   "outputs": [
    {
     "data": {
      "text/html": [
       "<div>\n",
       "<style scoped>\n",
       "    .dataframe tbody tr th:only-of-type {\n",
       "        vertical-align: middle;\n",
       "    }\n",
       "\n",
       "    .dataframe tbody tr th {\n",
       "        vertical-align: top;\n",
       "    }\n",
       "\n",
       "    .dataframe thead th {\n",
       "        text-align: right;\n",
       "    }\n",
       "</style>\n",
       "<table border=\"1\" class=\"dataframe\">\n",
       "  <thead>\n",
       "    <tr style=\"text-align: right;\">\n",
       "      <th></th>\n",
       "      <th>CustomerID</th>\n",
       "      <th>Recency</th>\n",
       "      <th>Frequency</th>\n",
       "      <th>Monetary</th>\n",
       "      <th>Cluster</th>\n",
       "    </tr>\n",
       "  </thead>\n",
       "  <tbody>\n",
       "    <tr>\n",
       "      <th>0</th>\n",
       "      <td>12346</td>\n",
       "      <td>325</td>\n",
       "      <td>1</td>\n",
       "      <td>77183.60</td>\n",
       "      <td>0</td>\n",
       "    </tr>\n",
       "    <tr>\n",
       "      <th>1</th>\n",
       "      <td>12347</td>\n",
       "      <td>1</td>\n",
       "      <td>7</td>\n",
       "      <td>4310.00</td>\n",
       "      <td>3</td>\n",
       "    </tr>\n",
       "    <tr>\n",
       "      <th>2</th>\n",
       "      <td>12348</td>\n",
       "      <td>74</td>\n",
       "      <td>4</td>\n",
       "      <td>1797.24</td>\n",
       "      <td>3</td>\n",
       "    </tr>\n",
       "    <tr>\n",
       "      <th>3</th>\n",
       "      <td>12349</td>\n",
       "      <td>18</td>\n",
       "      <td>1</td>\n",
       "      <td>1757.55</td>\n",
       "      <td>3</td>\n",
       "    </tr>\n",
       "    <tr>\n",
       "      <th>4</th>\n",
       "      <td>12350</td>\n",
       "      <td>309</td>\n",
       "      <td>1</td>\n",
       "      <td>334.40</td>\n",
       "      <td>1</td>\n",
       "    </tr>\n",
       "  </tbody>\n",
       "</table>\n",
       "</div>"
      ],
      "text/plain": [
       "   CustomerID  Recency  Frequency  Monetary  Cluster\n",
       "0       12346      325          1  77183.60        0\n",
       "1       12347        1          7   4310.00        3\n",
       "2       12348       74          4   1797.24        3\n",
       "3       12349       18          1   1757.55        3\n",
       "4       12350      309          1    334.40        1"
      ]
     },
     "execution_count": 28,
     "metadata": {},
     "output_type": "execute_result"
    }
   ],
   "source": [
    "optimal_k = 4\n",
    "\n",
    "kmeans = KMeans(n_clusters = optimal_k, random_state=42, n_init=10)\n",
    "rmf[\"Cluster\"] = kmeans.fit_predict(rmf_scaled)\n",
    "\n",
    "rmf = rmf.reset_index()\n",
    "\n",
    "rmf.head()"
   ]
  },
  {
   "cell_type": "code",
   "execution_count": 29,
   "id": "8d535aaf-c82b-40f8-9a1b-5b4922eb75ac",
   "metadata": {},
   "outputs": [
    {
     "name": "stdout",
     "output_type": "stream",
     "text": [
      "Cluster_0 - 211 Customers\n",
      "[12346, 12431, 12437, 12471, 12474, 12540, 12569, 12583, 12621, 12678]\n",
      "...\n",
      "Cluster_3 - 3053 Customers\n",
      "[12347, 12348, 12349, 12352, 12356, 12357, 12358, 12359, 12360, 12362]\n",
      "...\n",
      "Cluster_1 - 1062 Customers\n",
      "[12350, 12353, 12354, 12355, 12361, 12365, 12373, 12377, 12383, 12386]\n",
      "...\n",
      "Cluster_2 - 13 Customers\n",
      "[12415, 12748, 13089, 14156, 14646, 14911, 15311, 16029, 16446, 17450]\n",
      "...\n"
     ]
    }
   ],
   "source": [
    "segment_dict = {}\n",
    "\n",
    "for cluster in rmf[\"Cluster\"].unique():\n",
    "    segment_dict[f\"Cluster_{cluster}\"] = rmf[rmf[\"Cluster\"] == cluster][\"CustomerID\"].tolist()\n",
    "\n",
    "for cluster, customers in segment_dict.items():\n",
    "    print(f\"{cluster} - {len(customers)} Customers\")\n",
    "    print(customers[:10])\n",
    "    print(\"...\")"
   ]
  },
  {
   "cell_type": "markdown",
   "id": "c8543462-1e0d-4e39-ab0a-dec800dbe79c",
   "metadata": {},
   "source": [
    "##### Segment Name\t                   Cluster ID\n",
    "##### VIP & High-Value Customers\t   Cluster 1\n",
    "##### Churn-Risk Customers\t           Cluster 2\n",
    "##### Regular & Mid-Value Customers    Cluster 0\n",
    "##### Frequent Mid-Value Buyers\t       Cluster 3"
   ]
  },
  {
   "cell_type": "markdown",
   "id": "40394c1d-61ab-4822-9ebc-515eede5349b",
   "metadata": {},
   "source": [
    "#### Number of Customers in Each Segment"
   ]
  },
  {
   "cell_type": "code",
   "execution_count": 30,
   "id": "39661905-9687-46fc-816b-dec4bad25c5c",
   "metadata": {},
   "outputs": [
    {
     "data": {
      "image/png": "[encoded data removed]",
      "text/plain": [
       "<Figure size 1000x600 with 1 Axes>"
      ]
     },
     "metadata": {},
     "output_type": "display_data"
    }
   ],
   "source": [
    "import matplotlib.pyplot as plt\n",
    "\n",
    "# Create data for plotting\n",
    "cluster_names = list(segment_dict.keys())\n",
    "customer_counts = [len(customers) for customers in segment_dict.values()]\n",
    "\n",
    "# Plot\n",
    "plt.figure(figsize=(10, 6))\n",
    "plt.bar(cluster_names, customer_counts, color='skyblue')\n",
    "plt.title('Number of Customers per Cluster')\n",
    "plt.xlabel('Cluster')\n",
    "plt.ylabel('Number of Customers')\n",
    "plt.xticks(rotation=45)\n",
    "plt.tight_layout()\n",
    "plt.show()"
   ]
  },
  {
   "cell_type": "code",
   "execution_count": 31,
   "id": "4808319d-7063-446f-9aaa-cbbf82df8b60",
   "metadata": {},
   "outputs": [
    {
     "data": {
      "image/png": "[encoded data removed]",
      "text/plain": [
       "<Figure size 800x800 with 1 Axes>"
      ]
     },
     "metadata": {},
     "output_type": "display_data"
    }
   ],
   "source": [
    "plt.figure(figsize=(8, 8))\n",
    "plt.pie(customer_counts, labels=cluster_names, autopct='%1.1f%%', startangle=140)\n",
    "plt.title('Customer Distribution by Cluster')\n",
    "plt.axis('equal')  # Equal aspect ratio ensures the pie chart is circular\n",
    "plt.show()"
   ]
  },
  {
   "cell_type": "code",
   "execution_count": 35,
   "id": "cd252021-2352-43b2-b541-4691b1c797ba",
   "metadata": {},
   "outputs": [
    {
     "name": "stdout",
     "output_type": "stream",
     "text": [
      "Customre segmentation result saved as 'customer_segments.csv'\n"
     ]
    },
    {
     "data": {
      "text/html": [
       "<div>\n",
       "<style scoped>\n",
       "    .dataframe tbody tr th:only-of-type {\n",
       "        vertical-align: middle;\n",
       "    }\n",
       "\n",
       "    .dataframe tbody tr th {\n",
       "        vertical-align: top;\n",
       "    }\n",
       "\n",
       "    .dataframe thead th {\n",
       "        text-align: right;\n",
       "    }\n",
       "</style>\n",
       "<table border=\"1\" class=\"dataframe\">\n",
       "  <thead>\n",
       "    <tr style=\"text-align: right;\">\n",
       "      <th></th>\n",
       "      <th>CustomerID</th>\n",
       "      <th>Recency</th>\n",
       "      <th>Frequency</th>\n",
       "      <th>Monetary</th>\n",
       "      <th>Cluster</th>\n",
       "    </tr>\n",
       "  </thead>\n",
       "  <tbody>\n",
       "    <tr>\n",
       "      <th>0</th>\n",
       "      <td>12346</td>\n",
       "      <td>325</td>\n",
       "      <td>1</td>\n",
       "      <td>77183.60</td>\n",
       "      <td>0</td>\n",
       "    </tr>\n",
       "    <tr>\n",
       "      <th>1</th>\n",
       "      <td>12347</td>\n",
       "      <td>1</td>\n",
       "      <td>7</td>\n",
       "      <td>4310.00</td>\n",
       "      <td>3</td>\n",
       "    </tr>\n",
       "    <tr>\n",
       "      <th>2</th>\n",
       "      <td>12348</td>\n",
       "      <td>74</td>\n",
       "      <td>4</td>\n",
       "      <td>1797.24</td>\n",
       "      <td>3</td>\n",
       "    </tr>\n",
       "    <tr>\n",
       "      <th>3</th>\n",
       "      <td>12349</td>\n",
       "      <td>18</td>\n",
       "      <td>1</td>\n",
       "      <td>1757.55</td>\n",
       "      <td>3</td>\n",
       "    </tr>\n",
       "    <tr>\n",
       "      <th>4</th>\n",
       "      <td>12350</td>\n",
       "      <td>309</td>\n",
       "      <td>1</td>\n",
       "      <td>334.40</td>\n",
       "      <td>1</td>\n",
       "    </tr>\n",
       "  </tbody>\n",
       "</table>\n",
       "</div>"
      ],
      "text/plain": [
       "   CustomerID  Recency  Frequency  Monetary  Cluster\n",
       "0       12346      325          1  77183.60        0\n",
       "1       12347        1          7   4310.00        3\n",
       "2       12348       74          4   1797.24        3\n",
       "3       12349       18          1   1757.55        3\n",
       "4       12350      309          1    334.40        1"
      ]
     },
     "execution_count": 35,
     "metadata": {},
     "output_type": "execute_result"
    }
   ],
   "source": [
    "# rmf.to_csv(\"customer_segments.csv\", index = False)\n",
    "\n",
    "print(\"Customre segmentation result saved as 'customer_segments.csv'\")\n",
    "rmf.head()"
   ]
  },
  {
   "cell_type": "markdown",
   "id": "eb2aee8d-692b-481e-b24c-ddd6b901a93d",
   "metadata": {},
   "source": [
    "##### Segment Name\t                   Cluster ID\n",
    "##### VIP & High-Value Customers\t   Cluster 1\n",
    "##### Churn-Risk Customers\t           Cluster 2\n",
    "##### Regular & Mid-Value Customers    Cluster 0\n",
    "##### Frequent Mid-Value Buyers\t       Cluster 3"
   ]
  },
  {
   "cell_type": "code",
   "execution_count": 33,
   "id": "9d724068-ef13-4d28-81a9-f97df1d537a8",
   "metadata": {},
   "outputs": [
    {
     "name": "stdout",
     "output_type": "stream",
     "text": [
      "     Cluster  Number of Customers\n",
      "0  Cluster_0                  211\n",
      "1  Cluster_3                 3053\n",
      "2  Cluster_1                 1062\n",
      "3  Cluster_2                   13\n"
     ]
    }
   ],
   "source": [
    "import pandas as pd\n",
    "\n",
    "cluster_summary_df = pd.DataFrame({\n",
    "    \"Cluster\": cluster_names,\n",
    "    \"Number of Customers\": customer_counts\n",
    "})\n",
    "\n",
    "print(cluster_summary_df)\n"
   ]
  },
  {
   "cell_type": "code",
   "execution_count": null,
   "id": "5de8c67b-676e-4837-84d2-5101af47e7aa",
   "metadata": {},
   "outputs": [],
   "source": []
  }
 ],
 "metadata": {
  "kernelspec": {
   "display_name": "Python 3 (ipykernel)",
   "language": "python",
   "name": "python3"
  },
  "language_info": {
   "codemirror_mode": {
    "name": "ipython",
    "version": 3
   },
   "file_extension": ".py",
   "mimetype": "text/x-python",
   "name": "python",
   "nbconvert_exporter": "python",
   "pygments_lexer": "ipython3",
   "version": "3.8.20"
  }
 },
 "nbformat": 4,
 "nbformat_minor": 5
}
